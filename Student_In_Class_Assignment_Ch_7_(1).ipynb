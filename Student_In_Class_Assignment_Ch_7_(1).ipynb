{
  "nbformat": 4,
  "nbformat_minor": 0,
  "metadata": {
    "colab": {
      "provenance": [],
      "include_colab_link": true
    },
    "kernelspec": {
      "name": "python3",
      "display_name": "Python 3"
    },
    "language_info": {
      "name": "python"
    }
  },
  "cells": [
    {
      "cell_type": "markdown",
      "metadata": {
        "id": "view-in-github",
        "colab_type": "text"
      },
      "source": [
        "<a href=\"https://colab.research.google.com/github/Hysterical127/nathan_DTSC3020_Fall2025/blob/main/Student_In_Class_Assignment_Ch_7_(1).ipynb\" target=\"_parent\"><img src=\"https://colab.research.google.com/assets/colab-badge.svg\" alt=\"Open In Colab\"/></a>"
      ]
    },
    {
      "cell_type": "markdown",
      "source": [
        "#Write a Python program that simulates a self-checkout system.**\n",
        "Use this price list: prices: apple= 1 ,  bread= 2.5 ,  milk=5 ,  egg= 6\n",
        "\n",
        "Program requirements:\n",
        "\n",
        "The program should repeatedly ask the user to enter an item name or enter \"pay\".\n",
        "\n",
        "\n",
        "• Valid inputs are the names of the **items above ** or the word \"pay\".\n",
        "\n",
        "\n",
        "If the entered item exists in the price list:\n",
        "\n",
        "• Add its price to the running total.\n",
        "\n",
        "\n",
        "• Print the message: \"Added , running total: $\".\n",
        "\n",
        "\n",
        "If the entered item does not exist in the price list:\n",
        "\n",
        "• Print \"Item not found\".\n",
        "\n",
        "If the user types \"pay\":\n",
        "\n",
        "• Stop asking for input.\n",
        "\n",
        "Show the following three values:\n",
        "\n",
        "\n",
        "**Subtotal: the sum of all valid items entered.**\n",
        "\n",
        "**Tax: 8% of the subtotal. (0.08 * total)**\n",
        "\n",
        "**Final total: subtotal + tax.**\n",
        "\n",
        "\n",
        "Run your program with this purchase list. For example, for one person whose purchase is:apple, pizza, bread, pay *italicised text*"
      ],
      "metadata": {
        "id": "t1xs1X02Owtz"
      }
    },
    {
      "cell_type": "code",
      "execution_count": 3,
      "metadata": {
        "id": "nTH6mvq1OqHP",
        "colab": {
          "base_uri": "https://localhost:8080/"
        },
        "outputId": "ccb15bb0-f0d3-4b37-cc08-dee903f90eea"
      },
      "outputs": [
        {
          "output_type": "stream",
          "name": "stdout",
          "text": [
            "Weclome to the grocery store!\n",
            "Please enter if you would like to purchase: Apple, Bread, Milk, or Eggs.\n",
            "Or enter 'Pay' to exit.house\n",
            "I'm sorry, that was not a valid option. Please try again.\n",
            "Please enter if you would like to purchase: Apple, Bread, Milk, or Eggs.\n",
            "Or enter 'Pay' to exit.yummy\n",
            "I'm sorry, that was not a valid option. Please try again.\n",
            "Please enter if you would like to purchase: Apple, Bread, Milk, or Eggs.\n",
            "Or enter 'Pay' to exit.3\n",
            "I'm sorry, that was not a valid option. Please try again.\n",
            "Please enter if you would like to purchase: Apple, Bread, Milk, or Eggs.\n",
            "Or enter 'Pay' to exit.apple\n",
            "Added an Apple, running total: $1\n",
            "Please enter if you would like to purchase: Apple, Bread, Milk, or Eggs.\n",
            "Or enter 'Pay' to exit.pay\n",
            "Your subtotal is: $1.\n",
            "Your tax is: $0.08.\n",
            "Your final total is: $1.08.\n"
          ]
        }
      ],
      "source": [
        "# write your code here\n",
        "stop = False\n",
        "total = 0\n",
        "tax = 0\n",
        "true_total = 0\n",
        "print(\"Weclome to the grocery store!\")\n",
        "while stop != True:\n",
        "  decision = input(\"Please enter if you would like to purchase: Apple, Bread, Milk, or Eggs.\\nOr enter 'Pay' to exit.\").strip().lower()\n",
        "  if decision == \"apple\":\n",
        "    total += 1\n",
        "    print(f\"Added an Apple, running total: ${total}\")\n",
        "  elif decision == \"bread\":\n",
        "    total += 2.5\n",
        "    print(f\"Added Bread, running total: ${total}\")\n",
        "  elif decision == \"Milk\":\n",
        "    total += 5\n",
        "    print(f\"Added Milk, running total: ${total}\")\n",
        "  elif decision == \"Egg\":\n",
        "    total += 6\n",
        "    print(f\"Added Eggs, running total: ${total}\")\n",
        "  elif decision == \"pay\":\n",
        "    print(f\"Your subtotal is: ${total}.\")\n",
        "    tax = total*.08\n",
        "    print(f\"Your tax is: ${tax}.\")\n",
        "    true_total = total+tax\n",
        "    print(f\"Your final total is: ${true_total}.\")\n",
        "    stop = True\n",
        "  else:\n",
        "    print(\"I'm sorry, that was not a valid option. Please try again.\")"
      ]
    }
  ]
}