{
  "nbformat": 4,
  "nbformat_minor": 0,
  "metadata": {
    "colab": {
      "provenance": [],
      "authorship_tag": "ABX9TyN9j+hHQjlJGP85MkXNPl3D",
      "include_colab_link": true
    },
    "kernelspec": {
      "name": "python3",
      "display_name": "Python 3"
    },
    "language_info": {
      "name": "python"
    }
  },
  "cells": [
    {
      "cell_type": "markdown",
      "metadata": {
        "id": "view-in-github",
        "colab_type": "text"
      },
      "source": [
        "<a href=\"https://colab.research.google.com/github/Hysterical127/nathan_DTSC3020_Fall2025/blob/main/Assignment_2.ipynb\" target=\"_parent\"><img src=\"https://colab.research.google.com/assets/colab-badge.svg\" alt=\"Open In Colab\"/></a>"
      ]
    },
    {
      "cell_type": "code",
      "execution_count": 10,
      "metadata": {
        "id": "BO0NOXHjun74",
        "colab": {
          "base_uri": "https://localhost:8080/"
        },
        "outputId": "c88de7ab-c8f5-4408-8251-376a1e62cd04"
      },
      "outputs": [
        {
          "output_type": "stream",
          "name": "stdout",
          "text": [
            "['pineapple', 'banana', 'lemon']\n",
            "pineapple\n",
            "banana\n",
            "lemon\n"
          ]
        }
      ],
      "source": [
        "fruits = ['pineapple', 'banana', 'lemon']\n",
        "print(fruits)\n",
        "print(fruits[0])\n",
        "print(fruits[1])\n",
        "print(fruits[2])"
      ]
    },
    {
      "cell_type": "code",
      "source": [
        "names = [\"Nathan\", \"Eli\", \"Albert\", \"Kenneth\"]\n",
        "names[0] = \"Adrian\"\n",
        "print(names)"
      ],
      "metadata": {
        "colab": {
          "base_uri": "https://localhost:8080/"
        },
        "id": "FfSVnToavrIN",
        "outputId": "b024d0ed-a56f-4af8-8fc7-fd627d676d95"
      },
      "execution_count": 8,
      "outputs": [
        {
          "output_type": "stream",
          "name": "stdout",
          "text": [
            "['Adrian', 'Eli', 'Albert', 'Kenneth']\n"
          ]
        }
      ]
    },
    {
      "cell_type": "code",
      "source": [
        "vehicles = ['car', 'bus', 'plane', 'truck', 'motorcycle']\n",
        "vehicles.append('scooter')\n",
        "print(vehicles)"
      ],
      "metadata": {
        "colab": {
          "base_uri": "https://localhost:8080/"
        },
        "id": "-FIdOTZ0wAvV",
        "outputId": "4f9850a8-5450-4751-8428-f4c4289c13fd"
      },
      "execution_count": 9,
      "outputs": [
        {
          "output_type": "stream",
          "name": "stdout",
          "text": [
            "['car', 'bus', 'plane', 'truck', 'motorcycle', 'scooter']\n"
          ]
        }
      ]
    },
    {
      "cell_type": "code",
      "source": [
        "foods = ['pasta', 'hotdog', 'sandwich', 'oatmeal', 'salad', 'ramen']\n",
        "foods.remove('salad')\n",
        "print(foods)"
      ],
      "metadata": {
        "colab": {
          "base_uri": "https://localhost:8080/"
        },
        "id": "-dCDkFhixKis",
        "outputId": "3b202509-2e7c-45ed-e1d1-d979e7dc5673"
      },
      "execution_count": 11,
      "outputs": [
        {
          "output_type": "stream",
          "name": "stdout",
          "text": [
            "['pasta', 'hotdog', 'sandwich', 'oatmeal', 'ramen']\n"
          ]
        }
      ]
    },
    {
      "cell_type": "code",
      "source": [
        "cities = ['Austin', 'Denver', 'Cleveland', 'Honolulu']\n",
        "cities.sort(reverse=True)\n",
        "print(cities)"
      ],
      "metadata": {
        "colab": {
          "base_uri": "https://localhost:8080/"
        },
        "id": "K5BuvjQKx1Mg",
        "outputId": "49513b4e-2be6-4e9c-f0ae-73e1ac8116de"
      },
      "execution_count": 15,
      "outputs": [
        {
          "output_type": "stream",
          "name": "stdout",
          "text": [
            "['Honolulu', 'Denver', 'Cleveland', 'Austin']\n"
          ]
        }
      ]
    },
    {
      "cell_type": "code",
      "source": [
        "animals = ['dog', 'cat', 'bird']\n",
        "for animal in animals:\n",
        "  print(animal)"
      ],
      "metadata": {
        "colab": {
          "base_uri": "https://localhost:8080/"
        },
        "id": "7YafIJOizLrV",
        "outputId": "0251e921-7927-4801-d94b-ab086f3fc101"
      },
      "execution_count": 16,
      "outputs": [
        {
          "output_type": "stream",
          "name": "stdout",
          "text": [
            "dog\n",
            "cat\n",
            "bird\n"
          ]
        }
      ]
    },
    {
      "cell_type": "code",
      "source": [
        "numbers = [1, 2, 3, 4, 5]\n",
        "for number in numbers:\n",
        "  print(number*2)"
      ],
      "metadata": {
        "colab": {
          "base_uri": "https://localhost:8080/"
        },
        "id": "R7fc5vbMzZCh",
        "outputId": "c9944379-bd4c-498b-8246-2a45f3e7a52e"
      },
      "execution_count": 21,
      "outputs": [
        {
          "output_type": "stream",
          "name": "stdout",
          "text": [
            "2\n",
            "4\n",
            "6\n",
            "8\n",
            "10\n"
          ]
        }
      ]
    },
    {
      "cell_type": "code",
      "source": [
        "friends = ['Eli', 'Ian', 'Albert', 'Adrian', 'Vince', 'Rob']\n",
        "print(friends[0:3])\n",
        "print(friends[3:56])"
      ],
      "metadata": {
        "colab": {
          "base_uri": "https://localhost:8080/"
        },
        "id": "sDOvrQAvzxmv",
        "outputId": "de63cb3a-bd88-4348-ee48-8d2972477b98"
      },
      "execution_count": 20,
      "outputs": [
        {
          "output_type": "stream",
          "name": "stdout",
          "text": [
            "['Eli', 'Ian', 'Albert']\n",
            "['Adrian', 'Vince', 'Rob']\n"
          ]
        }
      ]
    },
    {
      "cell_type": "code",
      "source": [
        "numbers = list(range(1, 11))\n",
        "print(numbers)"
      ],
      "metadata": {
        "colab": {
          "base_uri": "https://localhost:8080/"
        },
        "id": "is_k9v0m0NYj",
        "outputId": "7e0baced-e804-4f40-8010-6eacc1758b49"
      },
      "execution_count": 22,
      "outputs": [
        {
          "output_type": "stream",
          "name": "stdout",
          "text": [
            "[1, 2, 3, 4, 5, 6, 7, 8, 9, 10]\n"
          ]
        }
      ]
    },
    {
      "cell_type": "code",
      "source": [
        "squares = [value**2 for value in range(1,6)]\n",
        "print(squares)"
      ],
      "metadata": {
        "colab": {
          "base_uri": "https://localhost:8080/"
        },
        "id": "RvcjpRJe0jMk",
        "outputId": "b69ff09c-5454-4ec9-fb60-8ab189468bb9"
      },
      "execution_count": 24,
      "outputs": [
        {
          "output_type": "stream",
          "name": "stdout",
          "text": [
            "[1, 4, 9, 16, 25]\n"
          ]
        }
      ]
    },
    {
      "cell_type": "code",
      "source": [],
      "metadata": {
        "id": "ggulhy5r1EJU"
      },
      "execution_count": null,
      "outputs": []
    }
  ]
}