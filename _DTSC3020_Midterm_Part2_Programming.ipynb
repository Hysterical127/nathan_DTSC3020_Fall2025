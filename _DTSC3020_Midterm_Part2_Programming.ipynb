{
  "cells": [
    {
      "cell_type": "markdown",
      "metadata": {
        "id": "view-in-github",
        "colab_type": "text"
      },
      "source": [
        "<a href=\"https://colab.research.google.com/github/Hysterical127/nathan_DTSC3020_Fall2025/blob/main/_DTSC3020_Midterm_Part2_Programming.ipynb\" target=\"_parent\"><img src=\"https://colab.research.google.com/assets/colab-badge.svg\" alt=\"Open In Colab\"/></a>"
      ]
    },
    {
      "cell_type": "markdown",
      "id": "8e58db4f",
      "metadata": {
        "id": "8e58db4f"
      },
      "source": [
        "# DTSC 3020 — Midterm Exam (Part 2: Programming)\n",
        "University of North Texas\n",
        "\n",
        "**Course:** Introduction to Computation with Python (DTSC 3020)  \n",
        "**Exam:** Midterm — Programming (Ch. 1–8 concepts)\n",
        "\n"
      ]
    },
    {
      "cell_type": "markdown",
      "id": "ed86aaec",
      "metadata": {
        "id": "ed86aaec"
      },
      "source": [
        "---\n",
        "### Instructions\n",
        "- Write clean, readable Python code for each question.\n",
        "- Use only standard Python; no external libraries.\n",
        "- Where required, write a function and return the result.\n",
        "- After each solution cell, there is a **Part 2 — Test Scenario**. Follow the prompt to run your code.\n",
        "\n",
        "---"
      ]
    },
    {
      "cell_type": "markdown",
      "id": "227c4435",
      "metadata": {
        "id": "227c4435"
      },
      "source": [
        "## Question 1 — Create Member ID\n",
        "Write a Python function `create_member_id(full_name)` that creates a Library Member ID from a person’s full name.\n",
        "\n",
        "**Rules**\n",
        "- Normalize the name: remove extra spaces, convert to lowercase, and split by spaces.\n",
        "- Use the last word as the last name (e.g., `\"John Ronald Reuel Tolkien\"` → last name `tolkien`).\n",
        "- Use the first letters of all earlier words as initials (e.g., `jrr` for the example above).\n",
        "- Construct the member ID in this exact format: `lastname_initials` (underscore between them; no spaces).\n",
        "\n",
        "**Examples**\n",
        "- `\"Sara Amini\"` → `amini_sa`\n",
        "- `\"Mary Jane Watson\"` → `watson_mj`\n",
        "- `\"LINA\"` (single word) → use the word for both parts: `lina_l`\n",
        "\n",
        "Part 2 — Test Scenario (run using your function)\n",
        "names = [\"Sara Amini\", \"Ali\", \"Mary Jane\", \"John Smith\", \"LINA\", \"madonna\", \"sara amini\"]\n",
        "\n",
        "\n",
        "\n"
      ]
    },
    {
      "cell_type": "code",
      "execution_count": 39,
      "id": "51411a35",
      "metadata": {
        "id": "51411a35"
      },
      "outputs": [],
      "source": [
        "# Write your answer here for Q1\n",
        "def create_member_id(full_name):\n",
        "  name_list = full_name.strip().lower().split()\n",
        "  if len.name_list > 1:\n",
        "    last_name = name_list[-1]\n",
        "    initials = name_list[0:-1]\n",
        "  else:\n",
        "    last_name = name_list[0]\n",
        "    initials = last_name[0]\n",
        "  member_id = f\"{last_name}_{initials}\"\n",
        "  return member_id"
      ]
    },
    {
      "cell_type": "code",
      "execution_count": 42,
      "id": "584ae4f0",
      "metadata": {
        "id": "584ae4f0",
        "colab": {
          "base_uri": "https://localhost:8080/",
          "height": 327
        },
        "outputId": "d4ece10e-5c63-4024-cd8d-1b47f9658a3d"
      },
      "outputs": [
        {
          "output_type": "error",
          "ename": "AttributeError",
          "evalue": "'list' object has no attribute 'split'",
          "traceback": [
            "\u001b[0;31m---------------------------------------------------------------------------\u001b[0m",
            "\u001b[0;31mAttributeError\u001b[0m                            Traceback (most recent call last)",
            "\u001b[0;32m/tmp/ipython-input-1281678212.py\u001b[0m in \u001b[0;36m<cell line: 0>\u001b[0;34m()\u001b[0m\n\u001b[1;32m     12\u001b[0m \u001b[0mnames\u001b[0m \u001b[0;34m=\u001b[0m \u001b[0;34m[\u001b[0m\u001b[0;34m\"Sara Amini\"\u001b[0m\u001b[0;34m,\u001b[0m \u001b[0;34m\"Ali\"\u001b[0m\u001b[0;34m,\u001b[0m \u001b[0;34m\"Mary Jane\"\u001b[0m\u001b[0;34m,\u001b[0m \u001b[0;34m\"John Smith\"\u001b[0m\u001b[0;34m,\u001b[0m \u001b[0;34m\"LINA\"\u001b[0m\u001b[0;34m,\u001b[0m \u001b[0;34m\"madonna\"\u001b[0m\u001b[0;34m,\u001b[0m \u001b[0;34m\"sara amini\"\u001b[0m\u001b[0;34m]\u001b[0m\u001b[0;34m\u001b[0m\u001b[0;34m\u001b[0m\u001b[0m\n\u001b[1;32m     13\u001b[0m \u001b[0;32mfor\u001b[0m \u001b[0mn\u001b[0m \u001b[0;32min\u001b[0m \u001b[0mnames\u001b[0m\u001b[0;34m:\u001b[0m\u001b[0;34m\u001b[0m\u001b[0;34m\u001b[0m\u001b[0m\n\u001b[0;32m---> 14\u001b[0;31m   \u001b[0mcreate_member_id\u001b[0m\u001b[0;34m(\u001b[0m\u001b[0mnames\u001b[0m\u001b[0;34m)\u001b[0m\u001b[0;34m\u001b[0m\u001b[0;34m\u001b[0m\u001b[0m\n\u001b[0m\u001b[1;32m     15\u001b[0m \u001b[0;34m\u001b[0m\u001b[0m\n",
            "\u001b[0;32m/tmp/ipython-input-1281678212.py\u001b[0m in \u001b[0;36mcreate_member_id\u001b[0;34m(full_name)\u001b[0m\n\u001b[1;32m      1\u001b[0m \u001b[0;31m# Part 2 — Test Scenario (run using your function)\u001b[0m\u001b[0;34m\u001b[0m\u001b[0;34m\u001b[0m\u001b[0m\n\u001b[1;32m      2\u001b[0m \u001b[0;32mdef\u001b[0m \u001b[0mcreate_member_id\u001b[0m\u001b[0;34m(\u001b[0m\u001b[0mfull_name\u001b[0m\u001b[0;34m)\u001b[0m\u001b[0;34m:\u001b[0m\u001b[0;34m\u001b[0m\u001b[0;34m\u001b[0m\u001b[0m\n\u001b[0;32m----> 3\u001b[0;31m   \u001b[0mname_list\u001b[0m \u001b[0;34m=\u001b[0m \u001b[0mfull_name\u001b[0m\u001b[0;34m.\u001b[0m\u001b[0msplit\u001b[0m\u001b[0;34m(\u001b[0m\u001b[0;34m)\u001b[0m\u001b[0;34m\u001b[0m\u001b[0;34m\u001b[0m\u001b[0m\n\u001b[0m\u001b[1;32m      4\u001b[0m   \u001b[0;32mif\u001b[0m \u001b[0mlen\u001b[0m\u001b[0;34m.\u001b[0m\u001b[0mname_list\u001b[0m \u001b[0;34m>\u001b[0m \u001b[0;36m1\u001b[0m\u001b[0;34m:\u001b[0m\u001b[0;34m\u001b[0m\u001b[0;34m\u001b[0m\u001b[0m\n\u001b[1;32m      5\u001b[0m     \u001b[0mlast_name\u001b[0m \u001b[0;34m=\u001b[0m \u001b[0mname_list\u001b[0m\u001b[0;34m[\u001b[0m\u001b[0;34m-\u001b[0m\u001b[0;36m1\u001b[0m\u001b[0;34m]\u001b[0m\u001b[0;34m\u001b[0m\u001b[0;34m\u001b[0m\u001b[0m\n",
            "\u001b[0;31mAttributeError\u001b[0m: 'list' object has no attribute 'split'"
          ]
        }
      ],
      "source": [
        "# Part 2 — Test Scenario (run using your function)\n",
        "def create_member_id(full_name):\n",
        "  name_list = full_name.split()\n",
        "  if len.name_list > 1:\n",
        "    last_name = name_list[-1]\n",
        "    initials = name_list[0:-1]\n",
        "  else:\n",
        "    last_name = name_list[0]\n",
        "    initials = last_name[0]\n",
        "  member_id = f\"{last_name}_{initials}\"\n",
        "  return member_id\n",
        "names = [\"Sara Amini\", \"Ali\", \"Mary Jane\", \"John Smith\", \"LINA\", \"madonna\", \"sara amini\"]\n",
        "for n in names:\n",
        "  create_member_id(names)\n",
        "\n"
      ]
    },
    {
      "cell_type": "markdown",
      "id": "c1727720",
      "metadata": {
        "id": "c1727720"
      },
      "source": [
        "## Question 2 — Movie Ticket Booth\n",
        "\n",
        "Write a Python program that simulates a movie ticket booth using this price list:\n",
        "\n",
        "```python\n",
        "prices = {\"adult\": 12.5, \"child\": 8, \"senior\": 9.5, \"student\": 10}\n",
        "```\n",
        "\n",
        "**Program Requirements**\n",
        "- Repeatedly ask the user to enter a ticket type or type `done` to finish.\n",
        "- Valid inputs: `adult`, `child`, `senior`, `student`, or `done`.\n",
        "- If the ticket type exists, add its price to a running total and print a confirmation message.\n",
        "- If it doesn’t exist, print `\"Invalid ticket type\"`.\n",
        "- When the user types `done`, stop and show:\n",
        "  - **Subtotal** (sum of valid ticket prices)\n",
        "  - **Tax** = 8% of subtotal\n",
        "  - **Final total** = subtotal + tax\n"
      ]
    },
    {
      "cell_type": "code",
      "execution_count": 38,
      "id": "4b859e17",
      "metadata": {
        "id": "4b859e17",
        "colab": {
          "base_uri": "https://localhost:8080/"
        },
        "outputId": "19dd0218-9f0b-4da6-9a43-e466644831b4"
      },
      "outputs": [
        {
          "output_type": "stream",
          "name": "stdout",
          "text": [
            "The available tickets are; Adult- $12.5, Child- $8, Senior- $9.5, and Student- $10.\n",
            "Please choose your ticket type, or enter 'Done' to finish transaction: adult\n",
            "The available tickets are; Adult- $12.5, Child- $8, Senior- $9.5, and Student- $10.\n",
            "Please choose your ticket type, or enter 'Done' to finish transaction: child\n",
            "The available tickets are; Adult- $12.5, Child- $8, Senior- $9.5, and Student- $10.\n",
            "Please choose your ticket type, or enter 'Done' to finish transaction: student\n",
            "The available tickets are; Adult- $12.5, Child- $8, Senior- $9.5, and Student- $10.\n",
            "Please choose your ticket type, or enter 'Done' to finish transaction: done\n",
            "Your subtotal is $30.5\n",
            "Your tax is $2.44\n",
            "Your final total is $32.94\n"
          ]
        }
      ],
      "source": [
        "# Write your answer here\n",
        "finished = False\n",
        "found = 0\n",
        "prices = {\"adult\": 12.5, \"child\": 8, \"senior\": 9.5, \"student\": 10}\n",
        "subtotal = 0\n",
        "final_total = 0\n",
        "TAX_RATE = .08\n",
        "while finished == False:\n",
        "  __builtins__.print(\"The available tickets are; Adult- $12.5, Child- $8, Senior- $9.5, and Student- $10.\")\n",
        "  response = input(\"Please choose your ticket type, or enter 'Done' to finish transaction: \")\n",
        "  ticket_choice = response.strip().lower()\n",
        "  if ticket_choice == \"done\":\n",
        "      break\n",
        "  for k,v in prices.items():\n",
        "    if ticket_choice == k:\n",
        "      subtotal += v\n",
        "      found = 1\n",
        "  if found == 0:\n",
        "    __builtins__.print(\"Invalid ticket type\")\n",
        "  found == False\n",
        "__builtins__.print(f\"Your subtotal is ${subtotal}\\nYour tax is ${subtotal*TAX_RATE}\\nYour final total is ${subtotal+(subtotal*TAX_RATE)}\")"
      ]
    },
    {
      "cell_type": "markdown",
      "id": "17b39afe",
      "metadata": {
        "id": "17b39afe"
      },
      "source": [
        "**Part 2 — Example Scenario**\n",
        "When prompted, type the following (each on a new line), then press Enter after each entry:\n",
        "\n",
        "```\n",
        "adult\n",
        "child\n",
        "student\n",
        "done\n",
        "```\n",
        "Your program should complete and display the subtotal, tax, and final total based on these entries.\n"
      ]
    },
    {
      "cell_type": "markdown",
      "id": "28c710b6",
      "metadata": {
        "id": "28c710b6"
      },
      "source": [
        "## Question 3 — Student Grade Analyzer\n",
        "\n",
        "Write a Python function `analyze_grades(grades)` that takes a list of numbers (0–100) and returns three values:\n",
        "1. average grade\n",
        "2. highest grade\n",
        "3. lowest grade\n",
        "\n",
        "**Constraints**\n",
        "- Use a function and return statement(s).\n",
        "- Do not use external libraries.\n"
      ]
    },
    {
      "cell_type": "code",
      "execution_count": null,
      "id": "efce3052",
      "metadata": {
        "id": "efce3052"
      },
      "outputs": [],
      "source": [
        "# Write your answer here for Q3\n",
        "def analyze_grades(grades):\n",
        "  average = sum(grades)/len(grades)\n",
        "  highest = max(grades)\n",
        "  lowest = min(grades)\n",
        "  return average, highest, lowest\n"
      ]
    },
    {
      "cell_type": "code",
      "execution_count": null,
      "id": "ad2b0d29",
      "metadata": {
        "id": "ad2b0d29",
        "colab": {
          "base_uri": "https://localhost:8080/"
        },
        "outputId": "1656f279-3eae-4157-82f4-cab5fdc6f195"
      },
      "outputs": [
        {
          "output_type": "execute_result",
          "data": {
            "text/plain": [
              "(85.57142857142857, 93, 72)"
            ]
          },
          "metadata": {},
          "execution_count": 17
        }
      ],
      "source": [
        "# Part 2 — Test Scenario\n",
        "sample = [88, 92, 79, 93, 85, 90, 72]\n",
        "\n",
        "def analyze_grades(grades):\n",
        "  average = sum(grades)/len(grades)\n",
        "  highest = max(grades)\n",
        "  lowest = min(grades)\n",
        "  return average, highest, lowest\n",
        "\n",
        "analyze_grades(sample)"
      ]
    },
    {
      "cell_type": "markdown",
      "id": "d378f3c3",
      "metadata": {
        "id": "d378f3c3"
      },
      "source": [
        "## Question 4 — PIN Verification\n",
        "Write a Python program that simulates an ATM PIN verification system.\n",
        "\n",
        "**Requirements**\n",
        "- The correct PIN is `4321`.\n",
        "- The user has at most **3 attempts** to enter the correct PIN.\n",
        "- If the PIN is correct: print `Access granted.` and stop.\n",
        "- If all 3 attempts fail: print `Card blocked.`\n",
        "- After each wrong attempt, also print the counter in the form `Wrong (x/3)`.\n"
      ]
    },
    {
      "cell_type": "code",
      "execution_count": 24,
      "id": "5ea085a2",
      "metadata": {
        "id": "5ea085a2",
        "colab": {
          "base_uri": "https://localhost:8080/"
        },
        "outputId": "f0b69b09-867a-4fd4-b408-0e5a676a8828"
      },
      "outputs": [
        {
          "output_type": "stream",
          "name": "stdout",
          "text": [
            "Please enter your 4 digit pin: 1111\n",
            "Wrong pin. (1/3)\n",
            "Please enter your 4 digit pin: 2222\n",
            "Wrong pin. (2/3)\n",
            "Please enter your 4 digit pin: 4321\n",
            "Access Granted\n"
          ]
        }
      ],
      "source": [
        "# Write your answer here\n",
        "correct_pin = 4321\n",
        "attempts = 0\n",
        "while attempts < 3:\n",
        "  input_pin = int(input(\"Please enter your 4 digit pin: \"))\n",
        "  if input_pin == correct_pin:\n",
        "    __builtins__.print(\"Access Granted\")\n",
        "    break\n",
        "  elif attempts == 3:\n",
        "      __builtins__.print(\"Card Blocked\")\n",
        "  else:\n",
        "    attempts += 1\n",
        "    __builtins__.print(f\"Wrong pin. ({attempts}/3)\")"
      ]
    },
    {
      "cell_type": "markdown",
      "id": "1c61e343",
      "metadata": {
        "id": "1c61e343"
      },
      "source": [
        "**Part 2 — Test Scenario**\n",
        "Run your program and, when prompted, enter these sequences to verify both behaviors:\n",
        "\n",
        "**Scenario A**\n",
        "```\n",
        "1111\n",
        "2222\n",
        "4321\n",
        "```\n",
        "\n",
        "\n"
      ]
    }
  ],
  "metadata": {
    "kernelspec": {
      "display_name": "Python 3",
      "language": "python",
      "name": "python3"
    },
    "language_info": {
      "name": "python",
      "version": "3.x"
    },
    "colab": {
      "provenance": [],
      "include_colab_link": true
    }
  },
  "nbformat": 4,
  "nbformat_minor": 5
}